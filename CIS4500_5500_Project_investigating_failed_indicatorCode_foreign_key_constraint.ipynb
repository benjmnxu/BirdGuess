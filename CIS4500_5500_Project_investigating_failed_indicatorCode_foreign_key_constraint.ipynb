{
  "nbformat": 4,
  "nbformat_minor": 0,
  "metadata": {
    "colab": {
      "provenance": []
    },
    "kernelspec": {
      "name": "python3",
      "display_name": "Python 3"
    },
    "language_info": {
      "name": "python"
    }
  },
  "cells": [
    {
      "cell_type": "markdown",
      "source": [
        "# While adding constraints in our MySQL database, the FOREIGN KEY (indicatorCode) REFERENCES worldBankIndicators(indicatorCode) constraint for the worldBankData table failed.\n",
        "\n",
        "We will try to find out what is causing the issue and whether we can resolve it."
      ],
      "metadata": {
        "id": "Cd4lCLBFcjts"
      }
    },
    {
      "cell_type": "code",
      "execution_count": null,
      "metadata": {
        "id": "5ziYAVxiccLv"
      },
      "outputs": [],
      "source": [
        "import pandas as pd\n",
        "import numpy as np"
      ]
    },
    {
      "cell_type": "code",
      "source": [
        "prefix = '/content/drive'\n",
        "from google.colab import drive\n",
        "drive.mount(prefix, force_remount=True)"
      ],
      "metadata": {
        "colab": {
          "base_uri": "https://localhost:8080/"
        },
        "id": "STjzSJzjc5zx",
        "outputId": "be2b1c1d-ab42-4a5a-9084-5c825bfc7df2"
      },
      "execution_count": null,
      "outputs": [
        {
          "output_type": "stream",
          "name": "stdout",
          "text": [
            "Mounted at /content/drive\n"
          ]
        }
      ]
    },
    {
      "cell_type": "code",
      "source": [
        "# copy and paste the file path between the quotation marks below\n",
        "world_bank_data_path = ''\n",
        "world_bank_data = pd.read_csv(world_bank_data_path)\n",
        "world_bank_data.columns"
      ],
      "metadata": {
        "colab": {
          "base_uri": "https://localhost:8080/"
        },
        "id": "EalOsNzsc-7k",
        "outputId": "e51d058e-7415-4588-9009-b99798e3d1fd"
      },
      "execution_count": null,
      "outputs": [
        {
          "output_type": "execute_result",
          "data": {
            "text/plain": [
              "Index(['Country Name', 'Indicator Code', 'Year', 'value'], dtype='object')"
            ]
          },
          "metadata": {},
          "execution_count": 3
        }
      ]
    },
    {
      "cell_type": "code",
      "source": [
        "# copy and paste the file path between the quotation marks below\n",
        "world_bank_indicators_path = ''\n",
        "world_bank_indicators = pd.read_csv(world_bank_indicators_path, usecols=['Series Code', 'Topic', 'Indicator Name', 'Long definition'])\n",
        "world_bank_indicators.columns"
      ],
      "metadata": {
        "colab": {
          "base_uri": "https://localhost:8080/"
        },
        "id": "e4tYGFbjdIwj",
        "outputId": "dfc1cd1f-9508-4a8e-f403-ae69b7b43625"
      },
      "execution_count": null,
      "outputs": [
        {
          "output_type": "execute_result",
          "data": {
            "text/plain": [
              "Index(['Series Code', 'Topic', 'Indicator Name', 'Long definition'], dtype='object')"
            ]
          },
          "metadata": {},
          "execution_count": 4
        }
      ]
    },
    {
      "cell_type": "markdown",
      "source": [
        "We'll check the original World Bank Series data file too in case the issue is due to rows deleted during data cleaning, although that shouldn't be the case."
      ],
      "metadata": {
        "id": "Y1jg8jxd5rkc"
      }
    },
    {
      "cell_type": "code",
      "source": [
        "# copy and paste the file path between the quotation marks below\n",
        "# just in case the rows exist but were deleted during data cleaning\n",
        "world_bank_indicators_original_path = ''\n",
        "world_bank_indicators_original = pd.read_csv(world_bank_indicators_original_path, usecols=['Series Code', 'Topic', 'Indicator Name', 'Long definition'])\n",
        "world_bank_indicators_original.columns"
      ],
      "metadata": {
        "colab": {
          "base_uri": "https://localhost:8080/"
        },
        "id": "9ByguKZujWhy",
        "outputId": "97aec09e-0ef7-4bc0-aee3-fba405486834"
      },
      "execution_count": null,
      "outputs": [
        {
          "output_type": "execute_result",
          "data": {
            "text/plain": [
              "Index(['Series Code', 'Topic', 'Indicator Name', 'Long definition'], dtype='object')"
            ]
          },
          "metadata": {},
          "execution_count": 5
        }
      ]
    },
    {
      "cell_type": "markdown",
      "source": [
        "The following left join will result in all the rows of worldBankData joined, if possible, with their corresponding rows of worldBankIndicators"
      ],
      "metadata": {
        "id": "I3krau2vdaZI"
      }
    },
    {
      "cell_type": "code",
      "source": [
        "left_joined_on_indicatorCode = world_bank_data.join(world_bank_indicators.set_index('Series Code'), on='Indicator Code')\n",
        "left_joined_on_indicatorCode.columns"
      ],
      "metadata": {
        "colab": {
          "base_uri": "https://localhost:8080/"
        },
        "id": "jqaaSwOJdajY",
        "outputId": "77488ff6-e453-4568-c105-270e4404a586"
      },
      "execution_count": null,
      "outputs": [
        {
          "output_type": "execute_result",
          "data": {
            "text/plain": [
              "Index(['Country Name', 'Indicator Code', 'Year', 'value', 'Topic',\n",
              "       'Indicator Name', 'Long definition'],\n",
              "      dtype='object')"
            ]
          },
          "metadata": {},
          "execution_count": 6
        }
      ]
    },
    {
      "cell_type": "code",
      "source": [
        "left_joined_on_indicatorCode.shape"
      ],
      "metadata": {
        "colab": {
          "base_uri": "https://localhost:8080/"
        },
        "id": "adS-I32SiGX5",
        "outputId": "df649a7b-555a-49e3-dc33-4dea0cc1acb4"
      },
      "execution_count": null,
      "outputs": [
        {
          "output_type": "execute_result",
          "data": {
            "text/plain": [
              "(4961021, 7)"
            ]
          },
          "metadata": {},
          "execution_count": 7
        }
      ]
    },
    {
      "cell_type": "code",
      "source": [
        "# No, it's not an issue involving which rows of worldBankIndicators were deleted in data cleaning\n",
        "left_joined_on_indicatorCode_original = world_bank_data.join(world_bank_indicators_original.set_index('Series Code'), on='Indicator Code')\n",
        "left_joined_on_indicatorCode_original.shape"
      ],
      "metadata": {
        "colab": {
          "base_uri": "https://localhost:8080/"
        },
        "id": "P6piy_4OjoAJ",
        "outputId": "efdec94f-8368-4816-fe82-843aa938ab99"
      },
      "execution_count": null,
      "outputs": [
        {
          "output_type": "execute_result",
          "data": {
            "text/plain": [
              "(4961021, 7)"
            ]
          },
          "metadata": {},
          "execution_count": 8
        }
      ]
    },
    {
      "cell_type": "markdown",
      "source": [
        "The following inner join will result in a joined table with only the rows that had matches"
      ],
      "metadata": {
        "id": "BikDjFRriYKu"
      }
    },
    {
      "cell_type": "code",
      "source": [
        "inner_joined_on_indicatorCode = world_bank_data.join(world_bank_indicators.set_index('Series Code'), on='Indicator Code', how='inner')\n",
        "inner_joined_on_indicatorCode.shape"
      ],
      "metadata": {
        "colab": {
          "base_uri": "https://localhost:8080/"
        },
        "id": "jmxPgFVagoJc",
        "outputId": "59d53d48-6c62-4b7b-a202-96286120c26a"
      },
      "execution_count": null,
      "outputs": [
        {
          "output_type": "execute_result",
          "data": {
            "text/plain": [
              "(4956426, 7)"
            ]
          },
          "metadata": {},
          "execution_count": 9
        }
      ]
    },
    {
      "cell_type": "markdown",
      "source": [
        "There are more rows in worldBankData than have matches in worldBankIndicators.\n",
        "\n",
        "We will find out which rows in worldBankData did not have matches in worldBankIndicators"
      ],
      "metadata": {
        "id": "2oQruehQik17"
      }
    },
    {
      "cell_type": "code",
      "source": [
        "no_indicator_code_match = world_bank_data[~world_bank_data['Indicator Code'].isin(world_bank_indicators['Series Code'])]\n",
        "no_indicator_code_match"
      ],
      "metadata": {
        "colab": {
          "base_uri": "https://localhost:8080/",
          "height": 423
        },
        "id": "R2r2FOlgiK4z",
        "outputId": "e34cedb5-a1bd-4731-9a7b-3169768584f5"
      },
      "execution_count": null,
      "outputs": [
        {
          "output_type": "execute_result",
          "data": {
            "text/plain": [
              "               Country Name     Indicator Code  Year      value\n",
              "323647             Colombia  DT.TDS.DPPF.XP.ZS  1970  21.229743\n",
              "326460   Dominican Republic  DT.TDS.DPPF.XP.ZS  1970   7.141586\n",
              "367576             Colombia  DT.TDS.DPPF.XP.ZS  1971  18.229302\n",
              "370705   Dominican Republic  DT.TDS.DPPF.XP.ZS  1971   8.002051\n",
              "377091                Haiti  DT.TDS.DPPF.XP.ZS  1971  13.254290\n",
              "...                     ...                ...   ...        ...\n",
              "4902818             Vietnam  DT.DOD.PVLX.EX.ZS  2021  12.804994\n",
              "4903817              Zambia  DT.TDS.DPPF.XP.ZS  2021   2.087835\n",
              "4904091              Zambia  DT.DOD.PVLX.EX.ZS  2021  99.747269\n",
              "4904265            Zimbabwe  DT.TDS.DPPF.XP.ZS  2021   1.313011\n",
              "4904533            Zimbabwe  DT.DOD.PVLX.EX.ZS  2021  35.186462\n",
              "\n",
              "[4595 rows x 4 columns]"
            ],
            "text/html": [
              "\n",
              "  <div id=\"df-0bfbcd14-237c-4e4d-b77b-d63afee8b399\" class=\"colab-df-container\">\n",
              "    <div>\n",
              "<style scoped>\n",
              "    .dataframe tbody tr th:only-of-type {\n",
              "        vertical-align: middle;\n",
              "    }\n",
              "\n",
              "    .dataframe tbody tr th {\n",
              "        vertical-align: top;\n",
              "    }\n",
              "\n",
              "    .dataframe thead th {\n",
              "        text-align: right;\n",
              "    }\n",
              "</style>\n",
              "<table border=\"1\" class=\"dataframe\">\n",
              "  <thead>\n",
              "    <tr style=\"text-align: right;\">\n",
              "      <th></th>\n",
              "      <th>Country Name</th>\n",
              "      <th>Indicator Code</th>\n",
              "      <th>Year</th>\n",
              "      <th>value</th>\n",
              "    </tr>\n",
              "  </thead>\n",
              "  <tbody>\n",
              "    <tr>\n",
              "      <th>323647</th>\n",
              "      <td>Colombia</td>\n",
              "      <td>DT.TDS.DPPF.XP.ZS</td>\n",
              "      <td>1970</td>\n",
              "      <td>21.229743</td>\n",
              "    </tr>\n",
              "    <tr>\n",
              "      <th>326460</th>\n",
              "      <td>Dominican Republic</td>\n",
              "      <td>DT.TDS.DPPF.XP.ZS</td>\n",
              "      <td>1970</td>\n",
              "      <td>7.141586</td>\n",
              "    </tr>\n",
              "    <tr>\n",
              "      <th>367576</th>\n",
              "      <td>Colombia</td>\n",
              "      <td>DT.TDS.DPPF.XP.ZS</td>\n",
              "      <td>1971</td>\n",
              "      <td>18.229302</td>\n",
              "    </tr>\n",
              "    <tr>\n",
              "      <th>370705</th>\n",
              "      <td>Dominican Republic</td>\n",
              "      <td>DT.TDS.DPPF.XP.ZS</td>\n",
              "      <td>1971</td>\n",
              "      <td>8.002051</td>\n",
              "    </tr>\n",
              "    <tr>\n",
              "      <th>377091</th>\n",
              "      <td>Haiti</td>\n",
              "      <td>DT.TDS.DPPF.XP.ZS</td>\n",
              "      <td>1971</td>\n",
              "      <td>13.254290</td>\n",
              "    </tr>\n",
              "    <tr>\n",
              "      <th>...</th>\n",
              "      <td>...</td>\n",
              "      <td>...</td>\n",
              "      <td>...</td>\n",
              "      <td>...</td>\n",
              "    </tr>\n",
              "    <tr>\n",
              "      <th>4902818</th>\n",
              "      <td>Vietnam</td>\n",
              "      <td>DT.DOD.PVLX.EX.ZS</td>\n",
              "      <td>2021</td>\n",
              "      <td>12.804994</td>\n",
              "    </tr>\n",
              "    <tr>\n",
              "      <th>4903817</th>\n",
              "      <td>Zambia</td>\n",
              "      <td>DT.TDS.DPPF.XP.ZS</td>\n",
              "      <td>2021</td>\n",
              "      <td>2.087835</td>\n",
              "    </tr>\n",
              "    <tr>\n",
              "      <th>4904091</th>\n",
              "      <td>Zambia</td>\n",
              "      <td>DT.DOD.PVLX.EX.ZS</td>\n",
              "      <td>2021</td>\n",
              "      <td>99.747269</td>\n",
              "    </tr>\n",
              "    <tr>\n",
              "      <th>4904265</th>\n",
              "      <td>Zimbabwe</td>\n",
              "      <td>DT.TDS.DPPF.XP.ZS</td>\n",
              "      <td>2021</td>\n",
              "      <td>1.313011</td>\n",
              "    </tr>\n",
              "    <tr>\n",
              "      <th>4904533</th>\n",
              "      <td>Zimbabwe</td>\n",
              "      <td>DT.DOD.PVLX.EX.ZS</td>\n",
              "      <td>2021</td>\n",
              "      <td>35.186462</td>\n",
              "    </tr>\n",
              "  </tbody>\n",
              "</table>\n",
              "<p>4595 rows × 4 columns</p>\n",
              "</div>\n",
              "    <div class=\"colab-df-buttons\">\n",
              "\n",
              "  <div class=\"colab-df-container\">\n",
              "    <button class=\"colab-df-convert\" onclick=\"convertToInteractive('df-0bfbcd14-237c-4e4d-b77b-d63afee8b399')\"\n",
              "            title=\"Convert this dataframe to an interactive table.\"\n",
              "            style=\"display:none;\">\n",
              "\n",
              "  <svg xmlns=\"http://www.w3.org/2000/svg\" height=\"24px\" viewBox=\"0 -960 960 960\">\n",
              "    <path d=\"M120-120v-720h720v720H120Zm60-500h600v-160H180v160Zm220 220h160v-160H400v160Zm0 220h160v-160H400v160ZM180-400h160v-160H180v160Zm440 0h160v-160H620v160ZM180-180h160v-160H180v160Zm440 0h160v-160H620v160Z\"/>\n",
              "  </svg>\n",
              "    </button>\n",
              "\n",
              "  <style>\n",
              "    .colab-df-container {\n",
              "      display:flex;\n",
              "      gap: 12px;\n",
              "    }\n",
              "\n",
              "    .colab-df-convert {\n",
              "      background-color: #E8F0FE;\n",
              "      border: none;\n",
              "      border-radius: 50%;\n",
              "      cursor: pointer;\n",
              "      display: none;\n",
              "      fill: #1967D2;\n",
              "      height: 32px;\n",
              "      padding: 0 0 0 0;\n",
              "      width: 32px;\n",
              "    }\n",
              "\n",
              "    .colab-df-convert:hover {\n",
              "      background-color: #E2EBFA;\n",
              "      box-shadow: 0px 1px 2px rgba(60, 64, 67, 0.3), 0px 1px 3px 1px rgba(60, 64, 67, 0.15);\n",
              "      fill: #174EA6;\n",
              "    }\n",
              "\n",
              "    .colab-df-buttons div {\n",
              "      margin-bottom: 4px;\n",
              "    }\n",
              "\n",
              "    [theme=dark] .colab-df-convert {\n",
              "      background-color: #3B4455;\n",
              "      fill: #D2E3FC;\n",
              "    }\n",
              "\n",
              "    [theme=dark] .colab-df-convert:hover {\n",
              "      background-color: #434B5C;\n",
              "      box-shadow: 0px 1px 3px 1px rgba(0, 0, 0, 0.15);\n",
              "      filter: drop-shadow(0px 1px 2px rgba(0, 0, 0, 0.3));\n",
              "      fill: #FFFFFF;\n",
              "    }\n",
              "  </style>\n",
              "\n",
              "    <script>\n",
              "      const buttonEl =\n",
              "        document.querySelector('#df-0bfbcd14-237c-4e4d-b77b-d63afee8b399 button.colab-df-convert');\n",
              "      buttonEl.style.display =\n",
              "        google.colab.kernel.accessAllowed ? 'block' : 'none';\n",
              "\n",
              "      async function convertToInteractive(key) {\n",
              "        const element = document.querySelector('#df-0bfbcd14-237c-4e4d-b77b-d63afee8b399');\n",
              "        const dataTable =\n",
              "          await google.colab.kernel.invokeFunction('convertToInteractive',\n",
              "                                                    [key], {});\n",
              "        if (!dataTable) return;\n",
              "\n",
              "        const docLinkHtml = 'Like what you see? Visit the ' +\n",
              "          '<a target=\"_blank\" href=https://colab.research.google.com/notebooks/data_table.ipynb>data table notebook</a>'\n",
              "          + ' to learn more about interactive tables.';\n",
              "        element.innerHTML = '';\n",
              "        dataTable['output_type'] = 'display_data';\n",
              "        await google.colab.output.renderOutput(dataTable, element);\n",
              "        const docLink = document.createElement('div');\n",
              "        docLink.innerHTML = docLinkHtml;\n",
              "        element.appendChild(docLink);\n",
              "      }\n",
              "    </script>\n",
              "  </div>\n",
              "\n",
              "\n",
              "<div id=\"df-c0174f0c-a98d-4e98-bd7d-c0badcbaf9a3\">\n",
              "  <button class=\"colab-df-quickchart\" onclick=\"quickchart('df-c0174f0c-a98d-4e98-bd7d-c0badcbaf9a3')\"\n",
              "            title=\"Suggest charts\"\n",
              "            style=\"display:none;\">\n",
              "\n",
              "<svg xmlns=\"http://www.w3.org/2000/svg\" height=\"24px\"viewBox=\"0 0 24 24\"\n",
              "     width=\"24px\">\n",
              "    <g>\n",
              "        <path d=\"M19 3H5c-1.1 0-2 .9-2 2v14c0 1.1.9 2 2 2h14c1.1 0 2-.9 2-2V5c0-1.1-.9-2-2-2zM9 17H7v-7h2v7zm4 0h-2V7h2v10zm4 0h-2v-4h2v4z\"/>\n",
              "    </g>\n",
              "</svg>\n",
              "  </button>\n",
              "\n",
              "<style>\n",
              "  .colab-df-quickchart {\n",
              "      --bg-color: #E8F0FE;\n",
              "      --fill-color: #1967D2;\n",
              "      --hover-bg-color: #E2EBFA;\n",
              "      --hover-fill-color: #174EA6;\n",
              "      --disabled-fill-color: #AAA;\n",
              "      --disabled-bg-color: #DDD;\n",
              "  }\n",
              "\n",
              "  [theme=dark] .colab-df-quickchart {\n",
              "      --bg-color: #3B4455;\n",
              "      --fill-color: #D2E3FC;\n",
              "      --hover-bg-color: #434B5C;\n",
              "      --hover-fill-color: #FFFFFF;\n",
              "      --disabled-bg-color: #3B4455;\n",
              "      --disabled-fill-color: #666;\n",
              "  }\n",
              "\n",
              "  .colab-df-quickchart {\n",
              "    background-color: var(--bg-color);\n",
              "    border: none;\n",
              "    border-radius: 50%;\n",
              "    cursor: pointer;\n",
              "    display: none;\n",
              "    fill: var(--fill-color);\n",
              "    height: 32px;\n",
              "    padding: 0;\n",
              "    width: 32px;\n",
              "  }\n",
              "\n",
              "  .colab-df-quickchart:hover {\n",
              "    background-color: var(--hover-bg-color);\n",
              "    box-shadow: 0 1px 2px rgba(60, 64, 67, 0.3), 0 1px 3px 1px rgba(60, 64, 67, 0.15);\n",
              "    fill: var(--button-hover-fill-color);\n",
              "  }\n",
              "\n",
              "  .colab-df-quickchart-complete:disabled,\n",
              "  .colab-df-quickchart-complete:disabled:hover {\n",
              "    background-color: var(--disabled-bg-color);\n",
              "    fill: var(--disabled-fill-color);\n",
              "    box-shadow: none;\n",
              "  }\n",
              "\n",
              "  .colab-df-spinner {\n",
              "    border: 2px solid var(--fill-color);\n",
              "    border-color: transparent;\n",
              "    border-bottom-color: var(--fill-color);\n",
              "    animation:\n",
              "      spin 1s steps(1) infinite;\n",
              "  }\n",
              "\n",
              "  @keyframes spin {\n",
              "    0% {\n",
              "      border-color: transparent;\n",
              "      border-bottom-color: var(--fill-color);\n",
              "      border-left-color: var(--fill-color);\n",
              "    }\n",
              "    20% {\n",
              "      border-color: transparent;\n",
              "      border-left-color: var(--fill-color);\n",
              "      border-top-color: var(--fill-color);\n",
              "    }\n",
              "    30% {\n",
              "      border-color: transparent;\n",
              "      border-left-color: var(--fill-color);\n",
              "      border-top-color: var(--fill-color);\n",
              "      border-right-color: var(--fill-color);\n",
              "    }\n",
              "    40% {\n",
              "      border-color: transparent;\n",
              "      border-right-color: var(--fill-color);\n",
              "      border-top-color: var(--fill-color);\n",
              "    }\n",
              "    60% {\n",
              "      border-color: transparent;\n",
              "      border-right-color: var(--fill-color);\n",
              "    }\n",
              "    80% {\n",
              "      border-color: transparent;\n",
              "      border-right-color: var(--fill-color);\n",
              "      border-bottom-color: var(--fill-color);\n",
              "    }\n",
              "    90% {\n",
              "      border-color: transparent;\n",
              "      border-bottom-color: var(--fill-color);\n",
              "    }\n",
              "  }\n",
              "</style>\n",
              "\n",
              "  <script>\n",
              "    async function quickchart(key) {\n",
              "      const quickchartButtonEl =\n",
              "        document.querySelector('#' + key + ' button');\n",
              "      quickchartButtonEl.disabled = true;  // To prevent multiple clicks.\n",
              "      quickchartButtonEl.classList.add('colab-df-spinner');\n",
              "      try {\n",
              "        const charts = await google.colab.kernel.invokeFunction(\n",
              "            'suggestCharts', [key], {});\n",
              "      } catch (error) {\n",
              "        console.error('Error during call to suggestCharts:', error);\n",
              "      }\n",
              "      quickchartButtonEl.classList.remove('colab-df-spinner');\n",
              "      quickchartButtonEl.classList.add('colab-df-quickchart-complete');\n",
              "    }\n",
              "    (() => {\n",
              "      let quickchartButtonEl =\n",
              "        document.querySelector('#df-c0174f0c-a98d-4e98-bd7d-c0badcbaf9a3 button');\n",
              "      quickchartButtonEl.style.display =\n",
              "        google.colab.kernel.accessAllowed ? 'block' : 'none';\n",
              "    })();\n",
              "  </script>\n",
              "</div>\n",
              "    </div>\n",
              "  </div>\n"
            ]
          },
          "metadata": {},
          "execution_count": 10
        }
      ]
    },
    {
      "cell_type": "markdown",
      "source": [
        "Let's get a list of the unique indicator codes from World Bank Data that do not have a match in World Bank Series to investigate."
      ],
      "metadata": {
        "id": "RmHdCB3StV16"
      }
    },
    {
      "cell_type": "code",
      "source": [
        "no_indicator_code_match['Indicator Code'].unique()"
      ],
      "metadata": {
        "colab": {
          "base_uri": "https://localhost:8080/"
        },
        "id": "z5Id28COtgiR",
        "outputId": "0dd317c2-c1c7-4766-ec12-98ec535d5169"
      },
      "execution_count": null,
      "outputs": [
        {
          "output_type": "execute_result",
          "data": {
            "text/plain": [
              "array(['DT.TDS.DPPF.XP.ZS', 'DT.DOD.PVLX.EX.ZS'], dtype=object)"
            ]
          },
          "metadata": {},
          "execution_count": 11
        }
      ]
    },
    {
      "cell_type": "markdown",
      "source": [
        "Inspecting the rows of the raw data files with the above two indicator codes shows that a discrepancy in the indicator names between the Data table and the Series table is the reason that rows in worldBankData with the above two indicator codes could not be joined to a row in worldBankIndicators on worldBankData.indicatorCode = worldBankIndicators.indicatorCode. Rows of both World Bank data files that did not have an indicator name that was in our list of indicator names were removed during data cleaning, and that includes indicator names that were intended to be the same as but were slightly different from the indicator names in our list."
      ],
      "metadata": {
        "id": "L1NRQAWgghnd"
      }
    },
    {
      "cell_type": "markdown",
      "source": [
        "In the raw World Bank Data file, the rows with indicator code 'DT.TDS.DPPF.XP.ZS' have indicator name 'Debt service (PPG and IMF only, % of exports of goods, services and primary income)'. That is the indicator name on the World Bank website too, so we'll use that.\n",
        "\n",
        "In the raw World Bank Series file, the row with that series code has indicator name 'Debt service to exports (%)'."
      ],
      "metadata": {
        "id": "62agbqvxFj4w"
      }
    },
    {
      "cell_type": "markdown",
      "source": [
        "In the raw World Bank Data file, the rows with indicator code 'DT.DOD.PVLX.EX.ZS' have indicator name 'Present value of external debt (% of exports of goods, services and primary income)'. That is the indicator name on the World Bank website too, so we'll use that.\n",
        "\n",
        "In the raw World Bank Series file, the row with that series code has indicator name 'Present value of external debt (% of exports of goods, services and income)'."
      ],
      "metadata": {
        "id": "HpHGwUk8GCuS"
      }
    },
    {
      "cell_type": "markdown",
      "source": [
        "Let's check that all of the rows in the raw World Bank Data file have the same indicator name whenever they have the same indicator code (the cleaned World Bank data file does not have an indicator name column)."
      ],
      "metadata": {
        "id": "HgOcPuXVvwpj"
      }
    },
    {
      "cell_type": "code",
      "source": [
        "# copy and paste the file path between the quotation marks below\n",
        "world_bank_data_original_path = ''\n",
        "world_bank_data_original = pd.read_csv(world_bank_data_original_path)\n",
        "world_bank_data_original.columns"
      ],
      "metadata": {
        "colab": {
          "base_uri": "https://localhost:8080/"
        },
        "id": "MwO5_4pD0R3L",
        "outputId": "06ec2f23-6dfa-46a8-d61c-8652f00bcc37"
      },
      "execution_count": null,
      "outputs": [
        {
          "output_type": "execute_result",
          "data": {
            "text/plain": [
              "Index(['Country Name', 'Country Code', 'Indicator Name', 'Indicator Code',\n",
              "       '1960', '1961', '1962', '1963', '1964', '1965', '1966', '1967', '1968',\n",
              "       '1969', '1970', '1971', '1972', '1973', '1974', '1975', '1976', '1977',\n",
              "       '1978', '1979', '1980', '1981', '1982', '1983', '1984', '1985', '1986',\n",
              "       '1987', '1988', '1989', '1990', '1991', '1992', '1993', '1994', '1995',\n",
              "       '1996', '1997', '1998', '1999', '2000', '2001', '2002', '2003', '2004',\n",
              "       '2005', '2006', '2007', '2008', '2009', '2010', '2011', '2012', '2013',\n",
              "       '2014', '2015', '2016', '2017', '2018', '2019', '2020', '2021', '2022'],\n",
              "      dtype='object')"
            ]
          },
          "metadata": {},
          "execution_count": 12
        }
      ]
    },
    {
      "cell_type": "code",
      "source": [
        "len(world_bank_data_original.groupby(['Indicator Code', 'Indicator Name'])) == len(world_bank_data_original['Indicator Code'].unique())"
      ],
      "metadata": {
        "id": "aL63VTojhhbH",
        "colab": {
          "base_uri": "https://localhost:8080/"
        },
        "outputId": "4913eb61-82e9-4356-f564-8181a611bfca"
      },
      "execution_count": null,
      "outputs": [
        {
          "output_type": "execute_result",
          "data": {
            "text/plain": [
              "True"
            ]
          },
          "metadata": {},
          "execution_count": 13
        }
      ]
    },
    {
      "cell_type": "code",
      "source": [
        "len(world_bank_data_original.groupby(['Indicator Code', 'Indicator Name'])) == len(world_bank_data_original['Indicator Name'].unique())"
      ],
      "metadata": {
        "id": "w1F_r4TFhs5Z",
        "colab": {
          "base_uri": "https://localhost:8080/"
        },
        "outputId": "03c78538-b4dd-437d-b37f-73e85698b00a"
      },
      "execution_count": null,
      "outputs": [
        {
          "output_type": "execute_result",
          "data": {
            "text/plain": [
              "True"
            ]
          },
          "metadata": {},
          "execution_count": 14
        }
      ]
    },
    {
      "cell_type": "markdown",
      "source": [
        "Yes, all of the rows of the raw World Bank data file had the same indicator name whenever they have the same indicator code."
      ],
      "metadata": {
        "id": "-IjUxzs86w67"
      }
    },
    {
      "cell_type": "markdown",
      "source": [
        "After editing the indicator names in the World Bank Series/ Indicators table as describe above, we should be able to add the foreign key constraint to World Bank data referencing World Bank Series."
      ],
      "metadata": {
        "id": "nCbhXq9HCXTB"
      }
    }
  ]
}