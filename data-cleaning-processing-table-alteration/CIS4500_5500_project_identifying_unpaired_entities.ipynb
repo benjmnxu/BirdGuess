{
  "nbformat": 4,
  "nbformat_minor": 0,
  "metadata": {
    "colab": {
      "provenance": []
    },
    "kernelspec": {
      "name": "python3",
      "display_name": "Python 3"
    },
    "language_info": {
      "name": "python"
    }
  },
  "cells": [
    {
      "cell_type": "markdown",
      "source": [
        "Using the cleaned csv files for Xeno Canto (bird), World Bank Data, and World Bank Country (Country Region), we will identify the unpaired entities in the database. Some changes to the database including additional entity resolution have already been made, but using the earlier version of the data tables exported from earlier Jupyter notebooks along with referencing earlier code and notes will allow us to identify the unpaired entities in the database."
      ],
      "metadata": {
        "id": "l4La58stNhDW"
      }
    },
    {
      "cell_type": "code",
      "execution_count": null,
      "metadata": {
        "id": "QtQ6en5O0EVF"
      },
      "outputs": [],
      "source": [
        "import pandas as pd\n",
        "import numpy as np"
      ]
    },
    {
      "cell_type": "code",
      "source": [
        "prefix = '/content/drive'\n",
        "from google.colab import drive\n",
        "drive.mount(prefix, force_remount=True)"
      ],
      "metadata": {
        "colab": {
          "base_uri": "https://localhost:8080/"
        },
        "id": "WCi0vkOt0O1k",
        "outputId": "bfbd6a10-340d-46cd-e453-c8d770a26da1"
      },
      "execution_count": null,
      "outputs": [
        {
          "output_type": "stream",
          "name": "stdout",
          "text": [
            "Mounted at /content/drive\n"
          ]
        }
      ]
    },
    {
      "cell_type": "code",
      "source": [
        "# copy and paste the file paths to the cleaned csv files between the quotation marks below\n",
        "xeno_canto_path = ''\n",
        "world_bank_path = ''\n",
        "country_region_path = ''"
      ],
      "metadata": {
        "id": "hoJU8aQ90O_a"
      },
      "execution_count": null,
      "outputs": []
    },
    {
      "cell_type": "code",
      "source": [
        "xeno_canto = pd.read_csv(xeno_canto_path)\n",
        "xeno_canto.columns"
      ],
      "metadata": {
        "colab": {
          "base_uri": "https://localhost:8080/"
        },
        "id": "g43vLfJC0q7v",
        "outputId": "a0881015-5766-44e8-dcd1-38c9c6f4c427"
      },
      "execution_count": null,
      "outputs": [
        {
          "output_type": "execute_result",
          "data": {
            "text/plain": [
              "Index(['id', 'genus', 'scientificName', 'vernacularName', 'longitudeDecimal',\n",
              "       'latitudeDecimal', 'country', 'locality', 'accessURI'],\n",
              "      dtype='object')"
            ]
          },
          "metadata": {},
          "execution_count": 7
        }
      ]
    },
    {
      "cell_type": "code",
      "source": [
        "world_bank = pd.read_csv(world_bank_path)\n",
        "world_bank.columns"
      ],
      "metadata": {
        "colab": {
          "base_uri": "https://localhost:8080/"
        },
        "id": "5VTZdfSJ0rDW",
        "outputId": "cef06a3f-974f-4d10-fdb3-80a7457671ce"
      },
      "execution_count": null,
      "outputs": [
        {
          "output_type": "execute_result",
          "data": {
            "text/plain": [
              "Index(['Country Name', 'Indicator Code', 'Year', 'value'], dtype='object')"
            ]
          },
          "metadata": {},
          "execution_count": 8
        }
      ]
    },
    {
      "cell_type": "code",
      "source": [
        "country_region = pd.read_csv(country_region_path)\n",
        "country_region.columns"
      ],
      "metadata": {
        "colab": {
          "base_uri": "https://localhost:8080/"
        },
        "id": "ZbMILGGN0rKB",
        "outputId": "204da166-44c6-4086-96e1-9563d2f890f8"
      },
      "execution_count": null,
      "outputs": [
        {
          "output_type": "execute_result",
          "data": {
            "text/plain": [
              "Index(['Country Name', 'Region'], dtype='object')"
            ]
          },
          "metadata": {},
          "execution_count": 9
        }
      ]
    },
    {
      "cell_type": "code",
      "source": [
        "xc_countries = xeno_canto['country'].unique().tolist()\n",
        "wb_countries = world_bank['Country Name'].unique().tolist()\n",
        "cr_countries = country_region['Country Name'].unique().tolist()"
      ],
      "metadata": {
        "id": "qs4Etqu6004X"
      },
      "execution_count": null,
      "outputs": []
    },
    {
      "cell_type": "code",
      "source": [
        "xc_countries = set(xc_countries)\n",
        "wb_countries = set(wb_countries)\n",
        "cr_countries = set(cr_countries)"
      ],
      "metadata": {
        "id": "u0jiBA_W1jGi"
      },
      "execution_count": null,
      "outputs": []
    },
    {
      "cell_type": "code",
      "source": [
        "cr_wb_diff = cr_countries.difference(wb_countries)\n",
        "cr_wb_diff\n",
        "# there are no countries in Country Region that are not in World Bank Data"
      ],
      "metadata": {
        "colab": {
          "base_uri": "https://localhost:8080/"
        },
        "id": "GilFiXF21uNj",
        "outputId": "1115a300-fa7c-4ab2-c2f4-3203fa61d0a7"
      },
      "execution_count": null,
      "outputs": [
        {
          "output_type": "execute_result",
          "data": {
            "text/plain": [
              "set()"
            ]
          },
          "metadata": {},
          "execution_count": 12
        }
      ]
    },
    {
      "cell_type": "code",
      "source": [
        "wb_cr_diff = wb_countries.difference(cr_countries)\n",
        "wb_cr_diff\n",
        "# there are no countries in World Bank Data that are not in Country Region"
      ],
      "metadata": {
        "colab": {
          "base_uri": "https://localhost:8080/"
        },
        "id": "HDfDqzlA2UVq",
        "outputId": "c7e9cdc4-2cd0-42fa-8303-c76dd1f9c863"
      },
      "execution_count": null,
      "outputs": [
        {
          "output_type": "execute_result",
          "data": {
            "text/plain": [
              "set()"
            ]
          },
          "metadata": {},
          "execution_count": 14
        }
      ]
    },
    {
      "cell_type": "code",
      "source": [
        "xc_cr_diff = xc_countries.difference(cr_countries)\n",
        "xc_cr_diff\n",
        "\n",
        "# these are the countries in Bird Data that are not in Country Region\n",
        "# Cape Verde, East Timor, St Lucia, and Swaziland have been resolved in the database\n",
        "# so Antarctica, French Guiana, Macedonia, and Taiwan are unpaired"
      ],
      "metadata": {
        "colab": {
          "base_uri": "https://localhost:8080/"
        },
        "id": "piqrQVm61__R",
        "outputId": "d525536c-f175-460c-cf16-254cb4e339aa"
      },
      "execution_count": null,
      "outputs": [
        {
          "output_type": "execute_result",
          "data": {
            "text/plain": [
              "{'Antarctica',\n",
              " 'Cape Verde',\n",
              " 'East Timor',\n",
              " 'French Guiana',\n",
              " 'Macedonia',\n",
              " 'St Lucia',\n",
              " 'Swaziland',\n",
              " 'Taiwan'}"
            ]
          },
          "metadata": {},
          "execution_count": 13
        }
      ]
    },
    {
      "cell_type": "code",
      "source": [
        "cr_xc_diff = cr_countries.difference(xc_countries)\n",
        "cr_xc_diff\n",
        "\n",
        "# some of these entities were unpaired because they needed entity resolution\n",
        "# and have been resolved\n",
        "\n",
        "# many of these countries are in Country Region (and World Bank Data)\n",
        "# but not in Xeno Canto"
      ],
      "metadata": {
        "colab": {
          "base_uri": "https://localhost:8080/"
        },
        "id": "d8j8ggcu2a8g",
        "outputId": "09f2a940-3931-416a-d65d-4ccc8c32e660"
      },
      "execution_count": null,
      "outputs": [
        {
          "output_type": "execute_result",
          "data": {
            "text/plain": [
              "{'American Samoa',\n",
              " 'Aruba',\n",
              " 'Bermuda',\n",
              " 'British Virgin Islands',\n",
              " 'Cabo Verde',\n",
              " 'Cayman Islands',\n",
              " 'Channel Islands',\n",
              " 'Curacao',\n",
              " 'Eritrea',\n",
              " 'Eswatini',\n",
              " 'Faroe Islands',\n",
              " 'French Polynesia',\n",
              " 'Gibraltar',\n",
              " 'Greenland',\n",
              " 'Guam',\n",
              " 'Haiti',\n",
              " 'Hong Kong SAR, China',\n",
              " 'Isle of Man',\n",
              " \"Korea, Dem. People's Rep.\",\n",
              " 'Kosovo',\n",
              " 'Macao SAR, China',\n",
              " 'Marshall Islands',\n",
              " 'New Caledonia',\n",
              " 'North Macedonia',\n",
              " 'Northern Mariana Islands',\n",
              " 'San Marino',\n",
              " 'Sint Maarten (Dutch part)',\n",
              " 'St. Kitts and Nevis',\n",
              " 'St. Lucia',\n",
              " 'St. Martin (French part)',\n",
              " 'Sudan',\n",
              " 'Timor-Leste',\n",
              " 'Turks and Caicos Islands',\n",
              " 'Tuvalu',\n",
              " 'Virgin Islands (U.S.)',\n",
              " 'West Bank and Gaza'}"
            ]
          },
          "metadata": {},
          "execution_count": 15
        }
      ]
    },
    {
      "cell_type": "markdown",
      "source": [
        "To close the gap between the conceptual design of our app and the actual database, we want the birdData table to have a foreign key referencing countryRegion (countryName). That way countryRegion will represent all of the countries in the database. (There were no countries in the cleaned World Bank Data table that were not in the cleaned World Bank Countries table, and in the database worldBankData already has a foreign key referencing countryRegion(countryName).) We can implement this change by adding the countries in birdData but not in countryRegion to countryRegion and then adding the foreign key constraint."
      ],
      "metadata": {
        "id": "RHppBep1Pm0o"
      }
    }
  ]
}