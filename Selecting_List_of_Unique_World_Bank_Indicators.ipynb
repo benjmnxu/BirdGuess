{
  "nbformat": 4,
  "nbformat_minor": 0,
  "metadata": {
    "colab": {
      "provenance": []
    },
    "kernelspec": {
      "name": "python3",
      "display_name": "Python 3"
    },
    "language_info": {
      "name": "python"
    }
  },
  "cells": [
    {
      "cell_type": "markdown",
      "source": [
        "We are using Pandas to get a list of the unique indicator names in the World Bank data and save it to a csv file."
      ],
      "metadata": {
        "id": "eMd_BK8yDtlZ"
      }
    },
    {
      "cell_type": "code",
      "execution_count": null,
      "metadata": {
        "id": "MkkXMyo1Dpt4"
      },
      "outputs": [],
      "source": [
        "import pandas as pd\n",
        "import numpy as np"
      ]
    },
    {
      "cell_type": "code",
      "source": [
        "prefix = '/content/drive'\n",
        "from google.colab import drive\n",
        "drive.mount(prefix, force_remount=True)"
      ],
      "metadata": {
        "id": "RbmM9YAADtHi"
      },
      "execution_count": null,
      "outputs": []
    },
    {
      "cell_type": "code",
      "source": [
        "# copy and paste the file path for the WDI Data/ WDICSV file between the quotation marks below\n",
        "file_path = ''"
      ],
      "metadata": {
        "id": "iQRJv0cGDvm6"
      },
      "execution_count": null,
      "outputs": []
    },
    {
      "cell_type": "code",
      "source": [
        "world_bank = pd.read_csv(file_path)\n",
        "world_bank.head()"
      ],
      "metadata": {
        "id": "4IO92vGyD4HY"
      },
      "execution_count": null,
      "outputs": []
    },
    {
      "cell_type": "markdown",
      "source": [
        "After saving the world bank data as a DataFrame, next we will save the unique indicator names into a NumPy array. The indicator names are in a column called \"Indicator Name\""
      ],
      "metadata": {
        "id": "URXChrgEGkiT"
      }
    },
    {
      "cell_type": "code",
      "source": [
        "indicator_names_array = world_bank['Indicator Name'].unique()"
      ],
      "metadata": {
        "id": "MrkJxdSFD9be"
      },
      "execution_count": null,
      "outputs": []
    },
    {
      "cell_type": "markdown",
      "source": [
        "After saving the indicator names in a numpy array, we will put it into a DataFrame to get it ready for the csv file"
      ],
      "metadata": {
        "id": "C-StSlNpHxxs"
      }
    },
    {
      "cell_type": "code",
      "source": [
        "indicator_names = pd.DataFrame(indicator_names_array, columns=['Indicator Name'])"
      ],
      "metadata": {
        "id": "9_8EbR0YHuna"
      },
      "execution_count": null,
      "outputs": []
    },
    {
      "cell_type": "markdown",
      "source": [
        "Next, we will write the indicator names dataset to a csv file"
      ],
      "metadata": {
        "id": "akl--TYrIJi6"
      }
    },
    {
      "cell_type": "code",
      "source": [
        "indicator_names.to_csv(\"indicator_names_complete_list.csv\", index=False)"
      ],
      "metadata": {
        "id": "WnU-hSOHIJ4Y"
      },
      "execution_count": null,
      "outputs": []
    },
    {
      "cell_type": "markdown",
      "source": [
        "Finally we will download the csv file"
      ],
      "metadata": {
        "id": "6ygzpvFmJW_W"
      }
    },
    {
      "cell_type": "code",
      "source": [
        "from google.colab import files\n",
        "files.download('indicator_names_complete_list.csv')"
      ],
      "metadata": {
        "id": "EwFufOl2JXHK"
      },
      "execution_count": null,
      "outputs": []
    },
    {
      "cell_type": "markdown",
      "source": [
        "Now that we have a csv file with a unique list of indicator names, we can remove the names of the indicators that we will not be using in our trivia game. Then we will upload the csv file of indicator names that we are using and remove rows with other indicators from the World Bank dataset."
      ],
      "metadata": {
        "id": "S-xw0_EMGxgP"
      }
    }
  ]
}