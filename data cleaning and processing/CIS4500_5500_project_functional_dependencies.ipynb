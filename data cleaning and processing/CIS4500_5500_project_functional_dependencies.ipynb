{
  "nbformat": 4,
  "nbformat_minor": 0,
  "metadata": {
    "colab": {
      "provenance": []
    },
    "kernelspec": {
      "name": "python3",
      "display_name": "Python 3"
    },
    "language_info": {
      "name": "python"
    }
  },
  "cells": [
    {
      "cell_type": "markdown",
      "source": [
        "# We will check if the functional dependencies we guessed are functional dependencies. If there are violations, then we will address them."
      ],
      "metadata": {
        "id": "hzBegAU4LX3V"
      }
    },
    {
      "cell_type": "markdown",
      "source": [
        "## We have already cleaned the data and populated the database. We will read in the clean data csv files that we populated the database with."
      ],
      "metadata": {
        "id": "gKzhLOPJMbyX"
      }
    },
    {
      "cell_type": "code",
      "source": [
        "import pandas as pd\n",
        "import numpy as np"
      ],
      "metadata": {
        "id": "_z1bTw-8LljU"
      },
      "execution_count": null,
      "outputs": []
    },
    {
      "cell_type": "code",
      "execution_count": null,
      "metadata": {
        "id": "YrHUECVFJR0D",
        "colab": {
          "base_uri": "https://localhost:8080/"
        },
        "outputId": "f5bdf21c-bd68-44c7-d4f8-6c987a9896d0"
      },
      "outputs": [
        {
          "output_type": "stream",
          "name": "stdout",
          "text": [
            "Mounted at /content/drive\n"
          ]
        }
      ],
      "source": [
        "prefix = '/content/drive'\n",
        "from google.colab import drive\n",
        "drive.mount(prefix, force_remount=True)"
      ]
    },
    {
      "cell_type": "markdown",
      "source": [
        "## Checking Functional Dependencies in the Xeno Canto table"
      ],
      "metadata": {
        "id": "NdDMw5wWNqSM"
      }
    },
    {
      "cell_type": "markdown",
      "source": [
        "### We suspect that the Xeno Canto table is not 3NF and that we need to decompose the table. The key of Xeno Canto is id, but it would seem that genus and vernacular name are dependent only on scientific name, which would be a transitive dependency. We would guess, based on the content of the dataset, that the other attributes are dependent only on id. Let's check if these are the functional dependencies:\n",
        "\n",
        "id -> longitude decimal, latitude decimal, country, locality, accessURI\n",
        "\n",
        "scientific name -> genus, vernacular name"
      ],
      "metadata": {
        "id": "38jmiibRMZFw"
      }
    },
    {
      "cell_type": "code",
      "source": [
        "# copy and paste the file path between the quotation marks below\n",
        "xeno_canto_path = '/content/drive/MyDrive/CIS 4500 5500 Project/cleaned data/xeno_canto_bird_cleaned.csv'\n",
        "xeno_canto = pd.read_csv(xeno_canto_path)\n",
        "xeno_canto.columns"
      ],
      "metadata": {
        "colab": {
          "base_uri": "https://localhost:8080/"
        },
        "id": "oqZkReGYMAJu",
        "outputId": "fd5c3624-9e89-4238-93e6-4817bc4a3b6c"
      },
      "execution_count": null,
      "outputs": [
        {
          "output_type": "execute_result",
          "data": {
            "text/plain": [
              "Index(['id', 'genus', 'scientificName', 'vernacularName', 'longitudeDecimal',\n",
              "       'latitudeDecimal', 'country', 'locality', 'accessURI'],\n",
              "      dtype='object')"
            ]
          },
          "metadata": {},
          "execution_count": 3
        }
      ]
    },
    {
      "cell_type": "markdown",
      "source": [
        "We already confirmed that id is unique before cleaning the data, but let's confirm it again:"
      ],
      "metadata": {
        "id": "88TGgfabNaxe"
      }
    },
    {
      "cell_type": "code",
      "source": [
        "len(xeno_canto['id'].unique()) == len(xeno_canto['id'])"
      ],
      "metadata": {
        "colab": {
          "base_uri": "https://localhost:8080/"
        },
        "id": "ks_yb91eNmmQ",
        "outputId": "84521068-ea96-4bc2-9893-3db17fd87c96"
      },
      "execution_count": null,
      "outputs": [
        {
          "output_type": "execute_result",
          "data": {
            "text/plain": [
              "True"
            ]
          },
          "metadata": {},
          "execution_count": 4
        }
      ]
    },
    {
      "cell_type": "markdown",
      "source": [
        "Therefore whenever a row has a given id, it will always have the same values in the other columns (because there's only one such row)."
      ],
      "metadata": {
        "id": "x3NeNxeXNO74"
      }
    },
    {
      "cell_type": "markdown",
      "source": [
        "Let's check if whenever a row has a given scientific name, it has the same genus."
      ],
      "metadata": {
        "id": "NeOtbHE1PTbO"
      }
    },
    {
      "cell_type": "code",
      "source": [
        "len(xeno_canto.groupby(['scientificName', 'genus'])) == len(xeno_canto['scientificName'].unique())"
      ],
      "metadata": {
        "colab": {
          "base_uri": "https://localhost:8080/"
        },
        "id": "zcnzfb50PWzn",
        "outputId": "ef4c51f1-06cd-49f9-ccde-e37b5cd650d4"
      },
      "execution_count": null,
      "outputs": [
        {
          "output_type": "execute_result",
          "data": {
            "text/plain": [
              "True"
            ]
          },
          "metadata": {},
          "execution_count": 5
        }
      ]
    },
    {
      "cell_type": "markdown",
      "source": [
        "Let's check if whenever a row has a given scientific name, it has the same vernacular name."
      ],
      "metadata": {
        "id": "Gt5TJcyoNjVw"
      }
    },
    {
      "cell_type": "code",
      "source": [
        "len(xeno_canto.groupby(['scientificName', 'vernacularName'])) == len(xeno_canto['scientificName'].unique())"
      ],
      "metadata": {
        "colab": {
          "base_uri": "https://localhost:8080/"
        },
        "id": "Fih50WFjPXc4",
        "outputId": "88ca60b6-149c-4261-8fe6-b6a37bf1156d"
      },
      "execution_count": null,
      "outputs": [
        {
          "output_type": "execute_result",
          "data": {
            "text/plain": [
              "True"
            ]
          },
          "metadata": {},
          "execution_count": 6
        }
      ]
    },
    {
      "cell_type": "markdown",
      "source": [
        "We have just confirmed that scientific name -> genus, vernacular name is a functional dependency in the Xeno Canto bird relation.\n",
        "\n",
        "As we will find out next, vernacular name -> scientific name is NOT a functional dependency in the Xeno Canto bird relation."
      ],
      "metadata": {
        "id": "jW2omBCVNZiI"
      }
    },
    {
      "cell_type": "code",
      "source": [
        "xeno_canto.groupby(['scientificName', 'vernacularName']).size()"
      ],
      "metadata": {
        "colab": {
          "base_uri": "https://localhost:8080/"
        },
        "id": "1nKkyXIqT4xB",
        "outputId": "16e1f5e9-8cf9-452b-dcf1-1d70acd36d34"
      },
      "execution_count": null,
      "outputs": [
        {
          "output_type": "execute_result",
          "data": {
            "text/plain": [
              "scientificName                        vernacularName             \n",
              "Abeillia abeillei                     Emerald-chinned Hummingbird     8\n",
              "Abeillia abeillei abeillei            Emerald-chinned Hummingbird     8\n",
              "Abroscopus albogularis                Rufous-faced Warbler           44\n",
              "Abroscopus albogularis albogularis    Rufous-faced Warbler            5\n",
              "Abroscopus albogularis fulvifacies    Rufous-faced Warbler           33\n",
              "                                                                     ..\n",
              "Zosterornis latistriatus              Panay Striped Babbler           1\n",
              "Zosterornis nigrorum                  Negros Striped Babbler          9\n",
              "Zosterornis striatus                  Luzon Striped Babbler           3\n",
              "Zosterornis whiteheadi                Chestnut-faced Babbler          7\n",
              "Zosterornis whiteheadi ss whiteheadi  Chestnut-faced Babbler          1\n",
              "Length: 24780, dtype: int64"
            ]
          },
          "metadata": {},
          "execution_count": 7
        }
      ]
    },
    {
      "cell_type": "markdown",
      "source": [
        "Let's check if whenever a row has a given vernacular name, it has the same scientific name."
      ],
      "metadata": {
        "id": "OOYYll30Trgs"
      }
    },
    {
      "cell_type": "code",
      "source": [
        "len(xeno_canto.groupby(['scientificName', 'vernacularName'])) == len(xeno_canto['vernacularName'].unique())"
      ],
      "metadata": {
        "colab": {
          "base_uri": "https://localhost:8080/"
        },
        "id": "OUTOpPAOTt0f",
        "outputId": "c1c43437-7140-484a-83f5-452643e4ba01"
      },
      "execution_count": null,
      "outputs": [
        {
          "output_type": "execute_result",
          "data": {
            "text/plain": [
              "False"
            ]
          },
          "metadata": {},
          "execution_count": 8
        }
      ]
    },
    {
      "cell_type": "markdown",
      "source": [
        "We might also guess that country is dependent upon locality.\n",
        "\n",
        "Let's check if whenever a row has a given locality, it has the same country"
      ],
      "metadata": {
        "id": "7g5mOXhxQy19"
      }
    },
    {
      "cell_type": "code",
      "source": [
        "len(xeno_canto.groupby(['country', 'locality'])) == len(xeno_canto['locality'].unique())"
      ],
      "metadata": {
        "colab": {
          "base_uri": "https://localhost:8080/"
        },
        "id": "jcdTPhD7Q2Ou",
        "outputId": "b2b192de-3ddc-4524-d93f-62d0430ac4bb"
      },
      "execution_count": null,
      "outputs": [
        {
          "output_type": "execute_result",
          "data": {
            "text/plain": [
              "False"
            ]
          },
          "metadata": {},
          "execution_count": 9
        }
      ]
    },
    {
      "cell_type": "code",
      "source": [
        "len(xeno_canto.groupby(['country', 'locality']))"
      ],
      "metadata": {
        "colab": {
          "base_uri": "https://localhost:8080/"
        },
        "id": "PW25J2GLWDI9",
        "outputId": "987f8e67-20af-4495-b3bd-73afe7eb2f33"
      },
      "execution_count": null,
      "outputs": [
        {
          "output_type": "execute_result",
          "data": {
            "text/plain": [
              "76081"
            ]
          },
          "metadata": {},
          "execution_count": 10
        }
      ]
    },
    {
      "cell_type": "code",
      "source": [
        "len(xeno_canto['locality'].unique())"
      ],
      "metadata": {
        "colab": {
          "base_uri": "https://localhost:8080/"
        },
        "id": "XvsAVWZ9WIKk",
        "outputId": "de42ae10-cd7f-48af-8567-8e7a41b25e39"
      },
      "execution_count": null,
      "outputs": [
        {
          "output_type": "execute_result",
          "data": {
            "text/plain": [
              "75963"
            ]
          },
          "metadata": {},
          "execution_count": 11
        }
      ]
    },
    {
      "cell_type": "markdown",
      "source": [
        "Country is NOT dependent upon locality.\n",
        "\n",
        "The 'locality' column of the Xeno Canto bird table contains null values, which could explain why the rows with the same 'locality' value do not all have the same 'country' value."
      ],
      "metadata": {
        "id": "9Y9jvH2gWiDB"
      }
    },
    {
      "cell_type": "code",
      "source": [
        "xeno_canto['locality'].isnull().sum()"
      ],
      "metadata": {
        "colab": {
          "base_uri": "https://localhost:8080/"
        },
        "id": "8IZWsIWbWa45",
        "outputId": "f1ddff99-8936-462d-aa1f-197965391bc8"
      },
      "execution_count": null,
      "outputs": [
        {
          "output_type": "execute_result",
          "data": {
            "text/plain": [
              "44"
            ]
          },
          "metadata": {},
          "execution_count": 12
        }
      ]
    },
    {
      "cell_type": "code",
      "source": [
        "# remove rows with null values in 'locality' column\n",
        "xeno_canto_no_null_locality = xeno_canto.dropna(axis='rows', subset='locality')\n",
        "xeno_canto_no_null_locality['locality'].isnull().sum()"
      ],
      "metadata": {
        "colab": {
          "base_uri": "https://localhost:8080/"
        },
        "id": "65a5RhLqOCs-",
        "outputId": "954c10af-1441-4d0d-af04-28ca27bb3a41"
      },
      "execution_count": null,
      "outputs": [
        {
          "output_type": "execute_result",
          "data": {
            "text/plain": [
              "0"
            ]
          },
          "metadata": {},
          "execution_count": 13
        }
      ]
    },
    {
      "cell_type": "code",
      "source": [
        "len(xeno_canto_no_null_locality.groupby(['country', 'locality']))"
      ],
      "metadata": {
        "colab": {
          "base_uri": "https://localhost:8080/"
        },
        "id": "9m_LTrTJO0A-",
        "outputId": "a95deb59-3524-4459-cf3a-005de49b2c00"
      },
      "execution_count": null,
      "outputs": [
        {
          "output_type": "execute_result",
          "data": {
            "text/plain": [
              "76063"
            ]
          },
          "metadata": {},
          "execution_count": 14
        }
      ]
    },
    {
      "cell_type": "code",
      "source": [
        "len(xeno_canto_no_null_locality['locality'].unique())"
      ],
      "metadata": {
        "colab": {
          "base_uri": "https://localhost:8080/"
        },
        "id": "107BWLuAPV-C",
        "outputId": "d2e3f61c-529a-4bc3-e751-e526e8bf277c"
      },
      "execution_count": null,
      "outputs": [
        {
          "output_type": "execute_result",
          "data": {
            "text/plain": [
              "75962"
            ]
          },
          "metadata": {},
          "execution_count": 15
        }
      ]
    },
    {
      "cell_type": "markdown",
      "source": [
        "After dropping the null values, the number of unique locality values is still not the same as the number of unique country, locality pairs. Let's export a csv that will group the locality and country values together, first by locality, then by country, to find out what locality values have more than one country value associated with it."
      ],
      "metadata": {
        "id": "QBi59BM6VLTI"
      }
    },
    {
      "cell_type": "code",
      "source": [
        "xeno_canto_no_null_locality.groupby(['locality', 'country']).size().to_csv('xeno_canto_no_null_locality_groupby.csv')\n",
        "from google.colab import files\n",
        "files.download('xeno_canto_no_null_locality_groupby.csv')"
      ],
      "metadata": {
        "colab": {
          "base_uri": "https://localhost:8080/",
          "height": 17
        },
        "id": "5TaeHSuVPnzN",
        "outputId": "6b59a4bf-2406-456a-f91d-c878eeef31d7"
      },
      "execution_count": null,
      "outputs": [
        {
          "output_type": "display_data",
          "data": {
            "text/plain": [
              "<IPython.core.display.Javascript object>"
            ],
            "application/javascript": [
              "\n",
              "    async function download(id, filename, size) {\n",
              "      if (!google.colab.kernel.accessAllowed) {\n",
              "        return;\n",
              "      }\n",
              "      const div = document.createElement('div');\n",
              "      const label = document.createElement('label');\n",
              "      label.textContent = `Downloading \"${filename}\": `;\n",
              "      div.appendChild(label);\n",
              "      const progress = document.createElement('progress');\n",
              "      progress.max = size;\n",
              "      div.appendChild(progress);\n",
              "      document.body.appendChild(div);\n",
              "\n",
              "      const buffers = [];\n",
              "      let downloaded = 0;\n",
              "\n",
              "      const channel = await google.colab.kernel.comms.open(id);\n",
              "      // Send a message to notify the kernel that we're ready.\n",
              "      channel.send({})\n",
              "\n",
              "      for await (const message of channel.messages) {\n",
              "        // Send a message to notify the kernel that we're ready.\n",
              "        channel.send({})\n",
              "        if (message.buffers) {\n",
              "          for (const buffer of message.buffers) {\n",
              "            buffers.push(buffer);\n",
              "            downloaded += buffer.byteLength;\n",
              "            progress.value = downloaded;\n",
              "          }\n",
              "        }\n",
              "      }\n",
              "      const blob = new Blob(buffers, {type: 'application/binary'});\n",
              "      const a = document.createElement('a');\n",
              "      a.href = window.URL.createObjectURL(blob);\n",
              "      a.download = filename;\n",
              "      div.appendChild(a);\n",
              "      a.click();\n",
              "      div.remove();\n",
              "    }\n",
              "  "
            ]
          },
          "metadata": {}
        },
        {
          "output_type": "display_data",
          "data": {
            "text/plain": [
              "<IPython.core.display.Javascript object>"
            ],
            "application/javascript": [
              "download(\"download_8b48b7a3-df0f-41c3-9efa-282688a8aa13\", \"xeno_canto_no_null_locality_groupby.csv\", 4228817)"
            ]
          },
          "metadata": {}
        }
      ]
    },
    {
      "cell_type": "markdown",
      "source": [
        "Visual inspection of the csv shows that dropping the rows with nan as a locality value did not drop all the null locality values, as other values such as '-' and '?' were used to represent unknown or null values. Here are 2 excerpts of the csv from above:\n",
        "\n",
        "locality|country|size\n",
        "\n",
        "\\-\tLiechtenstein\t4\n",
        "\n",
        "\\-\tNetherlands\t1\n",
        "\n",
        "\\-\tSweden\t5\n",
        "\n",
        "\\--\tSweden\t1\n",
        "\n",
        "\\---\tSweden\t1\n",
        "\n",
        "\\----\tSweden\t2\n",
        "\n",
        "\n",
        "\n",
        "?\tArgentina\t8\n",
        "\n",
        "?\tBhutan\t2\n",
        "\n",
        "?\tBolivia\t35\n",
        "\n",
        "?\tBotswana\t1\n",
        "\n",
        "?\tBrazil\t63\n",
        "\n",
        "?\tChina\t3\n",
        "\n",
        "?\tColombia\t1\n",
        "\n",
        "?\tEcuador\t8\n",
        "\n",
        "?\tFinland\t1\n",
        "\n",
        "?\tFrance\t1\n",
        "\n",
        "?\tHungary\t1\n",
        "\n",
        "?\tPanama\t17\n",
        "\n",
        "?\tPeru\t91\n",
        "\n",
        "?\tPoland\t1\n",
        "\n",
        "?\tSpain\t15\n",
        "\n",
        "?\tSweden\t3\n",
        "\n",
        "?\tTaiwan\t14\n",
        "\n",
        "?\tTanzania\t1"
      ],
      "metadata": {
        "id": "SO9rP5EFRnRY"
      }
    },
    {
      "cell_type": "markdown",
      "source": [
        "If we're going to use the 'locality' column, then we should clean these values and replace them with null. However, we're not planning on using the 'locality' column, so we can remove this column from the table."
      ],
      "metadata": {
        "id": "FVKRwMtadhUn"
      }
    },
    {
      "cell_type": "markdown",
      "source": [
        "## Checking Functional Dependencies in the World Bank Data table"
      ],
      "metadata": {
        "id": "uV6HOawhNnw5"
      }
    },
    {
      "cell_type": "markdown",
      "source": [
        "We think that after the data cleaning and processing, the World Bank data has been decomposed into 3NF.\n",
        "\n",
        "The key of the World Bank Data table is country name, indicator code, year. If we confirm that this is a unique key, then we know that the other attribute of the table, value, is dependent on the key. That is, the functional dependency is country name, indicator code, year -> value"
      ],
      "metadata": {
        "id": "miG-r4xARzQ4"
      }
    },
    {
      "cell_type": "code",
      "source": [
        "# copy and paste the file path between the quotation marks below\n",
        "world_bank_data_path = '/content/drive/MyDrive/CIS 4500 5500 Project/cleaned data/world_bank_cleaned.csv'\n",
        "world_bank_data = pd.read_csv(world_bank_data_path)\n",
        "world_bank_data.columns"
      ],
      "metadata": {
        "colab": {
          "base_uri": "https://localhost:8080/"
        },
        "id": "6afcWQw-MBxW",
        "outputId": "1da4c361-b5a4-409d-ca74-0f6c1686da69"
      },
      "execution_count": null,
      "outputs": [
        {
          "output_type": "execute_result",
          "data": {
            "text/plain": [
              "Index(['Country Name', 'Indicator Code', 'Year', 'value'], dtype='object')"
            ]
          },
          "metadata": {},
          "execution_count": 17
        }
      ]
    },
    {
      "cell_type": "code",
      "source": [
        "len(world_bank_data.groupby(['Country Name', 'Indicator Code', 'Year'])) == world_bank_data.shape[0]"
      ],
      "metadata": {
        "colab": {
          "base_uri": "https://localhost:8080/"
        },
        "id": "DK7MVE0gRyRv",
        "outputId": "fb9435d0-30d7-4e5e-b23b-fad48f203294"
      },
      "execution_count": null,
      "outputs": [
        {
          "output_type": "execute_result",
          "data": {
            "text/plain": [
              "True"
            ]
          },
          "metadata": {},
          "execution_count": 18
        }
      ]
    },
    {
      "cell_type": "markdown",
      "source": [
        "## Checking Functional Dependencies in the World Bank Indicators table"
      ],
      "metadata": {
        "id": "S6ArcXrjN54X"
      }
    },
    {
      "cell_type": "markdown",
      "source": [
        "Let's check if the indicator code is a unique key for the World Bank indicators table"
      ],
      "metadata": {
        "id": "1bQz-j_8Syfb"
      }
    },
    {
      "cell_type": "code",
      "source": [
        "# copy and paste the file path between the quotation marks below\n",
        "world_bank_indicators_path = '/content/drive/MyDrive/CIS 4500 5500 Project/cleaned data/world_bank_series_cleaned.csv'\n",
        "world_bank_indicators = pd.read_csv(world_bank_indicators_path)\n",
        "world_bank_indicators.columns"
      ],
      "metadata": {
        "colab": {
          "base_uri": "https://localhost:8080/"
        },
        "id": "Oq9fwSuxMB42",
        "outputId": "44d9d961-ad6b-4693-f8c3-8cbdb72fee02"
      },
      "execution_count": null,
      "outputs": [
        {
          "output_type": "execute_result",
          "data": {
            "text/plain": [
              "Index(['Series Code', 'Topic', 'Indicator Name', 'Long definition',\n",
              "       'Unit of measure', 'Periodicity', 'Base Period', 'Other notes',\n",
              "       'Aggregation method', 'Limitations and exceptions',\n",
              "       'Notes from original source', 'General comments', 'Source',\n",
              "       'Statistical concept and methodology', 'Development relevance'],\n",
              "      dtype='object')"
            ]
          },
          "metadata": {},
          "execution_count": 19
        }
      ]
    },
    {
      "cell_type": "code",
      "source": [
        "len(world_bank_indicators['Series Code'].unique()) == len(world_bank_indicators['Series Code'])"
      ],
      "metadata": {
        "colab": {
          "base_uri": "https://localhost:8080/"
        },
        "id": "767tGnU3S6gi",
        "outputId": "f3113c68-5ab3-4281-9e0c-ea965c56a5b6"
      },
      "execution_count": null,
      "outputs": [
        {
          "output_type": "execute_result",
          "data": {
            "text/plain": [
              "True"
            ]
          },
          "metadata": {},
          "execution_count": 20
        }
      ]
    }
  ]
}